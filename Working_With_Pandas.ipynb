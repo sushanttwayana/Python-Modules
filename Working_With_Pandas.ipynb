{
  "nbformat": 4,
  "nbformat_minor": 0,
  "metadata": {
    "colab": {
      "provenance": [],
      "authorship_tag": "ABX9TyPfsyALt0e8PuEQVqAhFB+E",
      "include_colab_link": true
    },
    "kernelspec": {
      "name": "python3",
      "display_name": "Python 3"
    },
    "language_info": {
      "name": "python"
    }
  },
  "cells": [
    {
      "cell_type": "markdown",
      "metadata": {
        "id": "view-in-github",
        "colab_type": "text"
      },
      "source": [
        "<a href=\"https://colab.research.google.com/github/sushanttwayana/Python-Modules/blob/main/Working_With_Pandas.ipynb\" target=\"_parent\"><img src=\"https://colab.research.google.com/assets/colab-badge.svg\" alt=\"Open In Colab\"/></a>"
      ]
    },
    {
      "cell_type": "code",
      "execution_count": null,
      "metadata": {
        "id": "DRdHb0FZ61aB"
      },
      "outputs": [],
      "source": [
        "# Pandas -> used for manupulating tables\n",
        "# Datastructure -> Series and DataFrame"
      ]
    },
    {
      "cell_type": "code",
      "source": [
        "# ======================================series is used for 1D array===============================\n",
        "# Working with series in Pandas\n",
        "\n",
        "import pandas as pd\n",
        "\n",
        "data = pd.Series([0.25, 0.5 , 0.75, 1])\n",
        "\n",
        "print(data)\n",
        "\n"
      ],
      "metadata": {
        "colab": {
          "base_uri": "https://localhost:8080/"
        },
        "id": "lLVKHEZd7yeO",
        "outputId": "5500715e-aae1-48b7-abff-8d4281afd4cf"
      },
      "execution_count": null,
      "outputs": [
        {
          "output_type": "stream",
          "name": "stdout",
          "text": [
            "0    0.25\n",
            "1    0.50\n",
            "2    0.75\n",
            "3    1.00\n",
            "dtype: float64\n"
          ]
        }
      ]
    },
    {
      "cell_type": "code",
      "source": [
        "# Explicitly assign index\n",
        "\n",
        "data = pd.Series([0.25, 0.5 , 0.75, 1], index = ['a', 'b', 'c', 'd' ])\n",
        "\n",
        "print(data)\n",
        "print(data['d'])"
      ],
      "metadata": {
        "colab": {
          "base_uri": "https://localhost:8080/"
        },
        "id": "rsK57nGp8QVG",
        "outputId": "a8a4bf06-68dc-4c99-9e01-93884bf1a703"
      },
      "execution_count": null,
      "outputs": [
        {
          "output_type": "stream",
          "name": "stdout",
          "text": [
            "a    0.25\n",
            "b    0.50\n",
            "c    0.75\n",
            "d    1.00\n",
            "dtype: float64\n",
            "1.0\n"
          ]
        }
      ]
    },
    {
      "cell_type": "code",
      "source": [
        "# work as a dictionary\n",
        "\n",
        "popn_dict = {\n",
        "    'Nepal' : 42356000,\n",
        "    'China' : 112213234233,\n",
        "    'India' : 67434242342,\n",
        "    'Maldives' : 10000000,\n",
        "}\n",
        "\n",
        "population = pd.Series(popn_dict)\n",
        "print(population)\n",
        "\n",
        "print(population['Nepal'])"
      ],
      "metadata": {
        "colab": {
          "base_uri": "https://localhost:8080/"
        },
        "id": "lXjniN-Z81c9",
        "outputId": "bad95c56-e7b0-4914-c818-bd9cab47b8ee"
      },
      "execution_count": null,
      "outputs": [
        {
          "output_type": "stream",
          "name": "stdout",
          "text": [
            "Nepal           42356000\n",
            "China       112213234233\n",
            "India        67434242342\n",
            "Maldives        10000000\n",
            "dtype: int64\n",
            "42356000\n"
          ]
        }
      ]
    },
    {
      "cell_type": "code",
      "source": [
        "# Working with series in Pandas\n",
        "\n",
        "s1 = pd.Series([10, 20, 30, 40, 50], index = ['a', 'b', 'c', 'd', 'e'])\n",
        "print(s1[2])\n",
        "print(s1['c'])\n",
        "print(\"\\n\")\n",
        "\n",
        "s3 = s1 + 5\n",
        "print(s3)\n",
        "print(\"\\n\")\n",
        "\n",
        "# filtering\n",
        "\n",
        "s2 = s1[s1 >= 30]\n",
        "print(s2)\n"
      ],
      "metadata": {
        "colab": {
          "base_uri": "https://localhost:8080/"
        },
        "id": "G7jE9cZq91Bw",
        "outputId": "ee10a084-ed8e-4c34-9968-650976db7b9d"
      },
      "execution_count": null,
      "outputs": [
        {
          "output_type": "stream",
          "name": "stdout",
          "text": [
            "30\n",
            "30\n",
            "\n",
            "\n",
            "a    15\n",
            "b    25\n",
            "c    35\n",
            "d    45\n",
            "e    55\n",
            "dtype: int64\n",
            "\n",
            "\n",
            "c    30\n",
            "d    40\n",
            "e    50\n",
            "dtype: int64\n"
          ]
        }
      ]
    },
    {
      "cell_type": "code",
      "source": [
        "# ============================================ Combining Pandas with Numpy ============================\n",
        "\n",
        "import numpy as np\n",
        "\n",
        "arr = np.array([10, 20, 30, 40 ,50])\n",
        "print(arr)\n",
        "print(\"\\n\")\n",
        "\n",
        "s = pd.Series(arr)\n",
        "print(s)\n",
        "print(\"\\n\")\n",
        "\n",
        "t = np.sqrt(s)\n",
        "print(t)\n"
      ],
      "metadata": {
        "colab": {
          "base_uri": "https://localhost:8080/"
        },
        "id": "cmbADVKs_L8N",
        "outputId": "3aae33c7-9090-4973-fff7-a35d412caf21"
      },
      "execution_count": null,
      "outputs": [
        {
          "output_type": "stream",
          "name": "stdout",
          "text": [
            "[10 20 30 40 50]\n",
            "\n",
            "\n",
            "0    10\n",
            "1    20\n",
            "2    30\n",
            "3    40\n",
            "4    50\n",
            "dtype: int64\n",
            "\n",
            "\n",
            "0    3.162278\n",
            "1    4.472136\n",
            "2    5.477226\n",
            "3    6.324555\n",
            "4    7.071068\n",
            "dtype: float64\n"
          ]
        }
      ]
    },
    {
      "cell_type": "code",
      "source": [
        "# Customize index using numpy for series\n",
        "\n",
        "index = np.array(['a', 'b', 'c', 'd', 'e'])\n",
        "arr   = np.array([2, 4, 6, 8 ,10])\n",
        "\n",
        "s = pd.Series(arr, index = index)\n",
        "print(s)"
      ],
      "metadata": {
        "colab": {
          "base_uri": "https://localhost:8080/"
        },
        "id": "2objWM_O_-91",
        "outputId": "ef89c0e7-05db-46af-c279-22dc4f485033"
      },
      "execution_count": null,
      "outputs": [
        {
          "output_type": "stream",
          "name": "stdout",
          "text": [
            "a     2\n",
            "b     4\n",
            "c     6\n",
            "d     8\n",
            "e    10\n",
            "dtype: int64\n"
          ]
        }
      ]
    }
  ]
}