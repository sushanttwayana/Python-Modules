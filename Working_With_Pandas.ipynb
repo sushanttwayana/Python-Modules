{
  "nbformat": 4,
  "nbformat_minor": 0,
  "metadata": {
    "colab": {
      "provenance": [],
      "authorship_tag": "ABX9TyMOl/dIHMNmtfANXeR35dgH",
      "include_colab_link": true
    },
    "kernelspec": {
      "name": "python3",
      "display_name": "Python 3"
    },
    "language_info": {
      "name": "python"
    }
  },
  "cells": [
    {
      "cell_type": "markdown",
      "metadata": {
        "id": "view-in-github",
        "colab_type": "text"
      },
      "source": [
        "<a href=\"https://colab.research.google.com/github/sushanttwayana/Python-Modules/blob/main/Working_With_Pandas.ipynb\" target=\"_parent\"><img src=\"https://colab.research.google.com/assets/colab-badge.svg\" alt=\"Open In Colab\"/></a>"
      ]
    },
    {
      "cell_type": "code",
      "execution_count": null,
      "metadata": {
        "id": "DRdHb0FZ61aB"
      },
      "outputs": [],
      "source": [
        "# Pandas -> used for manupulating tables\n",
        "# Datastructure -> Series and DataFrame"
      ]
    },
    {
      "cell_type": "code",
      "source": [
        "# ======================================series is used for 1D array===============================\n",
        "# Working with series in Pandas\n",
        "\n",
        "import pandas as pd\n",
        "\n",
        "data = pd.Series([0.25, 0.5 , 0.75, 1])\n",
        "\n",
        "print(data)\n",
        "\n"
      ],
      "metadata": {
        "colab": {
          "base_uri": "https://localhost:8080/"
        },
        "id": "lLVKHEZd7yeO",
        "outputId": "5500715e-aae1-48b7-abff-8d4281afd4cf"
      },
      "execution_count": null,
      "outputs": [
        {
          "output_type": "stream",
          "name": "stdout",
          "text": [
            "0    0.25\n",
            "1    0.50\n",
            "2    0.75\n",
            "3    1.00\n",
            "dtype: float64\n"
          ]
        }
      ]
    },
    {
      "cell_type": "code",
      "source": [
        "# Explicitly assign index\n",
        "\n",
        "data = pd.Series([0.25, 0.5 , 0.75, 1], index = ['a', 'b', 'c', 'd' ])\n",
        "\n",
        "print(data)\n",
        "print(data['d'])"
      ],
      "metadata": {
        "colab": {
          "base_uri": "https://localhost:8080/"
        },
        "id": "rsK57nGp8QVG",
        "outputId": "a8a4bf06-68dc-4c99-9e01-93884bf1a703"
      },
      "execution_count": null,
      "outputs": [
        {
          "output_type": "stream",
          "name": "stdout",
          "text": [
            "a    0.25\n",
            "b    0.50\n",
            "c    0.75\n",
            "d    1.00\n",
            "dtype: float64\n",
            "1.0\n"
          ]
        }
      ]
    },
    {
      "cell_type": "code",
      "source": [
        "# work as a dictionary\n",
        "\n",
        "popn_dict = {\n",
        "    'Nepal' : 42356000,\n",
        "    'China' : 112213234233,\n",
        "    'India' : 67434242342,\n",
        "    'Maldives' : 10000000,\n",
        "}\n",
        "\n",
        "population = pd.Series(popn_dict)\n",
        "print(population)\n",
        "\n",
        "print(population['Nepal'])"
      ],
      "metadata": {
        "colab": {
          "base_uri": "https://localhost:8080/"
        },
        "id": "lXjniN-Z81c9",
        "outputId": "bad95c56-e7b0-4914-c818-bd9cab47b8ee"
      },
      "execution_count": null,
      "outputs": [
        {
          "output_type": "stream",
          "name": "stdout",
          "text": [
            "Nepal           42356000\n",
            "China       112213234233\n",
            "India        67434242342\n",
            "Maldives        10000000\n",
            "dtype: int64\n",
            "42356000\n"
          ]
        }
      ]
    },
    {
      "cell_type": "code",
      "source": [
        "# Working with series in Pandas\n",
        "\n",
        "s1 = pd.Series([10, 20, 30, 40, 50], index = ['a', 'b', 'c', 'd', 'e'])\n",
        "print(s1[2])\n",
        "print(s1['c'])\n",
        "print(\"\\n\")\n",
        "\n",
        "s3 = s1 + 5\n",
        "print(s3)\n",
        "print(\"\\n\")\n",
        "\n",
        "# filtering\n",
        "\n",
        "s2 = s1[s1 >= 30]\n",
        "print(s2)\n"
      ],
      "metadata": {
        "colab": {
          "base_uri": "https://localhost:8080/"
        },
        "id": "G7jE9cZq91Bw",
        "outputId": "ee10a084-ed8e-4c34-9968-650976db7b9d"
      },
      "execution_count": null,
      "outputs": [
        {
          "output_type": "stream",
          "name": "stdout",
          "text": [
            "30\n",
            "30\n",
            "\n",
            "\n",
            "a    15\n",
            "b    25\n",
            "c    35\n",
            "d    45\n",
            "e    55\n",
            "dtype: int64\n",
            "\n",
            "\n",
            "c    30\n",
            "d    40\n",
            "e    50\n",
            "dtype: int64\n"
          ]
        }
      ]
    },
    {
      "cell_type": "code",
      "source": [
        "# ============================================ Combining Pandas with Numpy ============================\n",
        "\n",
        "import numpy as np\n",
        "\n",
        "arr = np.array([10, 20, 30, 40 ,50])\n",
        "print(arr)\n",
        "print(\"\\n\")\n",
        "\n",
        "s = pd.Series(arr)\n",
        "print(s)\n",
        "print(\"\\n\")\n",
        "\n",
        "t = np.sqrt(s)\n",
        "print(t)\n"
      ],
      "metadata": {
        "colab": {
          "base_uri": "https://localhost:8080/"
        },
        "id": "cmbADVKs_L8N",
        "outputId": "3aae33c7-9090-4973-fff7-a35d412caf21"
      },
      "execution_count": null,
      "outputs": [
        {
          "output_type": "stream",
          "name": "stdout",
          "text": [
            "[10 20 30 40 50]\n",
            "\n",
            "\n",
            "0    10\n",
            "1    20\n",
            "2    30\n",
            "3    40\n",
            "4    50\n",
            "dtype: int64\n",
            "\n",
            "\n",
            "0    3.162278\n",
            "1    4.472136\n",
            "2    5.477226\n",
            "3    6.324555\n",
            "4    7.071068\n",
            "dtype: float64\n"
          ]
        }
      ]
    },
    {
      "cell_type": "code",
      "source": [
        "# Customize index using numpy for series\n",
        "\n",
        "index = np.array(['a', 'b', 'c', 'd', 'e'])\n",
        "arr   = np.array([2, 4, 6, 8 ,10])\n",
        "\n",
        "s = pd.Series(arr, index = index)\n",
        "print(s)"
      ],
      "metadata": {
        "colab": {
          "base_uri": "https://localhost:8080/"
        },
        "id": "2objWM_O_-91",
        "outputId": "ef89c0e7-05db-46af-c279-22dc4f485033"
      },
      "execution_count": null,
      "outputs": [
        {
          "output_type": "stream",
          "name": "stdout",
          "text": [
            "a     2\n",
            "b     4\n",
            "c     6\n",
            "d     8\n",
            "e    10\n",
            "dtype: int64\n"
          ]
        }
      ]
    },
    {
      "cell_type": "code",
      "source": [
        "# ==== Find the number of elements in series\n",
        "import pandas as pd\n",
        "\n",
        "s1 = pd.Series([10, 100, 1000, 10000, 100000])\n",
        "\n",
        "print(\"Series is:\",s1)\n",
        "print(\"Size of the series is:\",s1.size)"
      ],
      "metadata": {
        "colab": {
          "base_uri": "https://localhost:8080/"
        },
        "id": "fF8b8bRygFEP",
        "outputId": "90426615-e2b3-486f-c626-298198844ea7"
      },
      "execution_count": null,
      "outputs": [
        {
          "output_type": "stream",
          "name": "stdout",
          "text": [
            "Series is: 0        10\n",
            "1       100\n",
            "2      1000\n",
            "3     10000\n",
            "4    100000\n",
            "dtype: int64\n",
            "Size of the series is: 5\n"
          ]
        }
      ]
    },
    {
      "cell_type": "code",
      "source": [
        "# average of elements in a series\n",
        "\n",
        "import pandas as pd\n",
        "\n",
        "s1 = pd.Series([10, 100, 1000, 10000, 100000])\n",
        "\n",
        "print(\"Average of the given series is :\", s1.mean())\n",
        "\n",
        "print(\"Maximum value in the series is :\", s1.max())\n",
        "print(\"Manimum value in the series is :\", s1.min())"
      ],
      "metadata": {
        "colab": {
          "base_uri": "https://localhost:8080/"
        },
        "id": "ZK0-H0WugqwY",
        "outputId": "5caa6836-10dc-4764-afdd-36cbc37922ce"
      },
      "execution_count": null,
      "outputs": [
        {
          "output_type": "stream",
          "name": "stdout",
          "text": [
            "Average of the given series is : 22222.0\n",
            "Maximum value in the series is : 100000\n",
            "Manimum value in the series is : 10\n"
          ]
        }
      ]
    },
    {
      "cell_type": "code",
      "source": [
        "#Sorting a series\n",
        "\n",
        "s = pd.Series([9, 6, 4, 8, 1, 3])\n",
        "\n",
        "print(\"Original Series is : \\n\", s)\n",
        "print(\"Sorted Series is : \\n\", s.sort_values())"
      ],
      "metadata": {
        "colab": {
          "base_uri": "https://localhost:8080/"
        },
        "id": "M8pphSzLhSDQ",
        "outputId": "15bc78e1-e301-4490-8e2f-89e3a24d0755"
      },
      "execution_count": null,
      "outputs": [
        {
          "output_type": "stream",
          "name": "stdout",
          "text": [
            "Original Series is : \n",
            " 0    9\n",
            "1    6\n",
            "2    4\n",
            "3    8\n",
            "4    1\n",
            "5    3\n",
            "dtype: int64\n",
            "Sorted Series is : \n",
            " 4    1\n",
            "5    3\n",
            "2    4\n",
            "1    6\n",
            "3    8\n",
            "0    9\n",
            "dtype: int64\n"
          ]
        }
      ]
    },
    {
      "cell_type": "code",
      "source": [
        "# Displaying unique values in the series\n",
        "\n",
        "s = pd.Series([9, 6, 4, 8, 1, 1, 6, 4])\n",
        "s1 = s.unique()\n",
        "print(s1)\n",
        "\n",
        "# nunique() -> number of unique elements\n",
        "\n",
        "n = s.nunique()\n",
        "print(n)"
      ],
      "metadata": {
        "colab": {
          "base_uri": "https://localhost:8080/"
        },
        "id": "RgO7jZMGh3YK",
        "outputId": "cd3c0a2b-b98e-479f-955f-544c5a6b667f"
      },
      "execution_count": null,
      "outputs": [
        {
          "output_type": "stream",
          "name": "stdout",
          "text": [
            "[9 6 4 8 1]\n",
            "5\n"
          ]
        }
      ]
    },
    {
      "cell_type": "code",
      "source": [
        "# Statistics summary of a series\n",
        "# describe() -> complete statistics of a  series\n",
        "\n",
        "import pandas as pd\n",
        "\n",
        "s = pd.Series([50, 60, 70 ,80 ,90])\n",
        "\n",
        "print(s.describe())"
      ],
      "metadata": {
        "colab": {
          "base_uri": "https://localhost:8080/"
        },
        "id": "1PCxuyuAi2Dq",
        "outputId": "be6ec66b-02e9-4ebf-d7c2-98c42e991b01"
      },
      "execution_count": null,
      "outputs": [
        {
          "output_type": "stream",
          "name": "stdout",
          "text": [
            "count     5.000000\n",
            "mean     70.000000\n",
            "std      15.811388\n",
            "min      50.000000\n",
            "25%      60.000000\n",
            "50%      70.000000\n",
            "75%      80.000000\n",
            "max      90.000000\n",
            "dtype: float64\n"
          ]
        }
      ]
    },
    {
      "cell_type": "code",
      "source": [
        "#======================Creating Dataframes from series ===================================\n",
        "\n",
        "import pandas as pd\n",
        "\n",
        "s = pd.Series(['a', 'b', 'c', 'd'])\n",
        "\n",
        "df = pd.DataFrame(s)\n",
        "print(df)"
      ],
      "metadata": {
        "colab": {
          "base_uri": "https://localhost:8080/"
        },
        "id": "x9YbTiLMjPet",
        "outputId": "32aeba91-facc-4d48-cd5d-6247533b2c8b"
      },
      "execution_count": null,
      "outputs": [
        {
          "output_type": "stream",
          "name": "stdout",
          "text": [
            "   0\n",
            "0  a\n",
            "1  b\n",
            "2  c\n",
            "3  d\n"
          ]
        }
      ]
    },
    {
      "cell_type": "code",
      "source": [
        "import pandas as pd\n",
        "\n",
        "f_name = pd.Series(['Sushant', 'Sumina'])\n",
        "l_name = pd.Series(['Twayana', 'Awa'])\n",
        "\n",
        "dic = {'First Name':f_name, 'Last Name':l_name}\n",
        "df = pd.DataFrame(dic)\n",
        "print(df)"
      ],
      "metadata": {
        "colab": {
          "base_uri": "https://localhost:8080/"
        },
        "id": "zWOfqkg0j6hv",
        "outputId": "84439c78-1b4b-4691-fc73-50232a15edfb"
      },
      "execution_count": null,
      "outputs": [
        {
          "output_type": "stream",
          "name": "stdout",
          "text": [
            "  First Name Last Name\n",
            "0    Sushant   Twayana\n",
            "1     Sumina       Awa\n"
          ]
        }
      ]
    },
    {
      "cell_type": "code",
      "source": [
        "# Creating datafrmaes from the list of dictionaries\n",
        "\n",
        "import pandas as pd\n",
        "\n",
        "\n",
        "l = [{'Name': 'Sachin', 'Subject' : 'Engineering'},\n",
        "     {'Name': 'Radha', 'Subject': 'MBBS'},\n",
        "     {'Name': 'Ram', 'Subject': 'IT'},]\n",
        "\n",
        "df = pd.DataFrame(l)\n",
        "\n",
        "print(df)"
      ],
      "metadata": {
        "colab": {
          "base_uri": "https://localhost:8080/"
        },
        "id": "e-MBc1S591dr",
        "outputId": "b58f197f-b93d-481e-84a2-812ef6988106"
      },
      "execution_count": 1,
      "outputs": [
        {
          "output_type": "stream",
          "name": "stdout",
          "text": [
            "     Name      Subject\n",
            "0  Sachin  Engineering\n",
            "1   Radha         MBBS\n",
            "2     Ram           IT\n"
          ]
        }
      ]
    },
    {
      "cell_type": "code",
      "source": [
        "# Accessing Data rowwise\n",
        "# iterrows()\n",
        "\n",
        "import pandas as pd\n",
        "\n",
        "\n",
        "l = [{'Name': 'Sachin', 'Subject' : 'Engineering'},\n",
        "     {'Name': 'Radha', 'Subject': 'MBBS'},\n",
        "     {'Name': 'Ram', 'Subject': 'IT'},]\n",
        "\n",
        "df = pd.DataFrame(l)\n",
        "\n",
        "print(df)\n",
        "\n",
        "for (row_index, row_value) in df.iterrows() :\n",
        "\n",
        "  print(\"\\n\")\n",
        "  print(\"Row Index is:\", row_index)\n",
        "  print(\"Row Value is:\", row_value)"
      ],
      "metadata": {
        "colab": {
          "base_uri": "https://localhost:8080/"
        },
        "id": "z_8PnkC-_6N7",
        "outputId": "c25abd5d-f269-42c1-f60a-b98ec971018a"
      },
      "execution_count": 4,
      "outputs": [
        {
          "output_type": "stream",
          "name": "stdout",
          "text": [
            "     Name      Subject\n",
            "0  Sachin  Engineering\n",
            "1   Radha         MBBS\n",
            "2     Ram           IT\n",
            "\n",
            "\n",
            "Row Index is: 0\n",
            "Row Value is: Name            Sachin\n",
            "Subject    Engineering\n",
            "Name: 0, dtype: object\n",
            "\n",
            "\n",
            "Row Index is: 1\n",
            "Row Value is: Name       Radha\n",
            "Subject     MBBS\n",
            "Name: 1, dtype: object\n",
            "\n",
            "\n",
            "Row Index is: 2\n",
            "Row Value is: Name       Ram\n",
            "Subject     IT\n",
            "Name: 2, dtype: object\n"
          ]
        }
      ]
    },
    {
      "cell_type": "code",
      "source": [
        "# Accessing Data Column wise\n",
        "# iteritems()\n",
        "\n",
        "import pandas as pd\n",
        "\n",
        "\n",
        "l = [{'Name': 'Sachin', 'Subject' : 'Engineering'},\n",
        "     {'Name': 'Radha', 'Subject': 'MBBS'},\n",
        "     {'Name': 'Ram', 'Subject': 'IT'},]\n",
        "\n",
        "df = pd.DataFrame(l)\n",
        "\n",
        "print(df)\n",
        "\n",
        "for (col_index, col_value) in df.iteritems() :\n",
        "\n",
        "  print(\"\\n\")\n",
        "  print(\"Column Index is:\", col_index)\n",
        "  print(\"Column Value is:\", col_value)"
      ],
      "metadata": {
        "colab": {
          "base_uri": "https://localhost:8080/"
        },
        "id": "CXvNLhUwArGs",
        "outputId": "620fa802-ce9d-4e67-8fc2-e92032670adc"
      },
      "execution_count": 5,
      "outputs": [
        {
          "output_type": "stream",
          "name": "stdout",
          "text": [
            "     Name      Subject\n",
            "0  Sachin  Engineering\n",
            "1   Radha         MBBS\n",
            "2     Ram           IT\n",
            "\n",
            "\n",
            "Column Index is: Name\n",
            "Column Value is: 0    Sachin\n",
            "1     Radha\n",
            "2       Ram\n",
            "Name: Name, dtype: object\n",
            "\n",
            "\n",
            "Column Index is: Subject\n",
            "Column Value is: 0    Engineering\n",
            "1           MBBS\n",
            "2             IT\n",
            "Name: Subject, dtype: object\n"
          ]
        },
        {
          "output_type": "stream",
          "name": "stderr",
          "text": [
            "<ipython-input-5-4218a940dacf>:15: FutureWarning: iteritems is deprecated and will be removed in a future version. Use .items instead.\n",
            "  for (col_index, col_value) in df.iteritems() :\n"
          ]
        }
      ]
    },
    {
      "cell_type": "code",
      "source": [
        "# ADD Rename and Delete Column\n",
        "\n",
        "import pandas as pd\n",
        "\n",
        "s = pd.Series([10, 20 , 30, 40, 50])\n",
        "df = pd.DataFrame(s)\n",
        "# print(df)\n",
        "\n",
        "# adding column name to the list\n",
        "df.columns = ['List1']\n",
        "# print(df)\n",
        "\n",
        "# Adding another list\n",
        "df['List2'] = 20 # same value over the list\n",
        "# print(df)\n",
        "\n",
        "df[\"List3\"] = df[\"List1\"] + df [\"List2\"]\n",
        "# print(df)\n",
        "\n",
        "# delete column\n",
        "\n",
        "del df['List3']\n",
        "# OR use df.pop[\"List3\"]\n",
        "print(df)\n",
        "\n"
      ],
      "metadata": {
        "colab": {
          "base_uri": "https://localhost:8080/"
        },
        "id": "CmQIXCRJ_6Ya",
        "outputId": "ccc50b58-5c7c-4cd2-f53d-62f9fb649424"
      },
      "execution_count": 16,
      "outputs": [
        {
          "output_type": "stream",
          "name": "stdout",
          "text": [
            "   List1  List2\n",
            "0     10     20\n",
            "1     20     20\n",
            "2     30     20\n",
            "3     40     20\n",
            "4     50     20\n"
          ]
        }
      ]
    },
    {
      "cell_type": "code",
      "source": [
        "# Delete column using drop\n",
        "\n",
        "\n",
        "import pandas as pd\n",
        "\n",
        "s = pd.Series([10, 20 , 30, 40, 50])\n",
        "df = pd.DataFrame(s)\n",
        "# print(df)\n",
        "\n",
        "# adding column name to the list\n",
        "df.columns = ['List1']\n",
        "# print(df)\n",
        "\n",
        "# Adding another list\n",
        "df['List2'] = 20 # same value over the list\n",
        "# print(df)\n",
        "\n",
        "df[\"List3\"] = df[\"List1\"] + df [\"List2\"]\n",
        "print(df)\n",
        "\n",
        "# axis = 1 represents droping column wise\n",
        "# axis = 0 represents dropping row wise\n",
        "df1 = df.drop(\"List2\",axis = 1)\n",
        "print(df1)\n",
        "\n",
        "# df2 = df.drop(\"List3\", axis = 1)\n",
        "# print(df2)\n",
        "\n",
        "# drop index 2 and 3 rows data\n",
        "df3 = df.drop(index = [2,3], axis = 0)\n",
        "print(df3)"
      ],
      "metadata": {
        "colab": {
          "base_uri": "https://localhost:8080/"
        },
        "id": "4_2vW3JiDube",
        "outputId": "321ebc91-8aaf-4172-f09e-34280f782998"
      },
      "execution_count": 21,
      "outputs": [
        {
          "output_type": "stream",
          "name": "stdout",
          "text": [
            "   List1  List2  List3\n",
            "0     10     20     30\n",
            "1     20     20     40\n",
            "2     30     20     50\n",
            "3     40     20     60\n",
            "4     50     20     70\n",
            "   List1  List3\n",
            "0     10     30\n",
            "1     20     40\n",
            "2     30     50\n",
            "3     40     60\n",
            "4     50     70\n",
            "   List1  List2  List3\n",
            "0     10     20     30\n",
            "1     20     20     40\n",
            "4     50     20     70\n"
          ]
        }
      ]
    },
    {
      "cell_type": "code",
      "source": [
        "# assigning boolean indexing in data frame\n",
        "\n",
        "import pandas as pd\n",
        "\n",
        "dic = {\"Name \":['Hari', 'Ram' , 'Shyam'], \"Age\" : [45, 55, 52]}\n",
        "\n",
        "df = pd.DataFrame(dic)\n",
        "print(df)\n",
        "print(\"\\n\")\n",
        "\n",
        "df1 = pd.DataFrame(dic, index = [True, False, True])\n",
        "print(df1)\n",
        "print(\"\\n\")\n",
        "\n",
        "# Display only index having true Value\n",
        "print(df1.loc[True])"
      ],
      "metadata": {
        "colab": {
          "base_uri": "https://localhost:8080/"
        },
        "id": "QAdi9byxFfVN",
        "outputId": "6b218ba2-894b-4e50-a2d9-11e290d6f37f"
      },
      "execution_count": 25,
      "outputs": [
        {
          "output_type": "stream",
          "name": "stdout",
          "text": [
            "   Name   Age\n",
            "0   Hari   45\n",
            "1    Ram   55\n",
            "2  Shyam   52\n",
            "\n",
            "\n",
            "       Name   Age\n",
            "True    Hari   45\n",
            "False    Ram   55\n",
            "True   Shyam   52\n",
            "\n",
            "\n",
            "      Name   Age\n",
            "True   Hari   45\n",
            "True  Shyam   52\n"
          ]
        }
      ]
    },
    {
      "cell_type": "code",
      "source": [
        "# Concatenation of two dataframes\n",
        "import pandas as pd\n",
        "\n",
        "dict1 = {\"Id\" : [1, 2], \"Name\" : ['Mohan', 'Ritika']}\n",
        "df1 = pd.DataFrame(dict1)\n",
        "print(\"The df1 is:\\n\", df1)\n",
        "print(\"\\n\")\n",
        "\n",
        "dict2 = {\"Id\" : [13, 1, 15], \"Name\" : [\"Sara\", \"Sehek\", \"Zalema\"]}\n",
        "# dict2 = {\"Id\" : [3, 4, 5], \"Name\" : [\"Sara\", \"Sehek\", \"Zalema\"]}\n",
        "df2 = pd.DataFrame(dict2)\n",
        "print(\"The df2 is:\\n\", df2)\n",
        "print(\"\\n\")\n",
        "\n",
        "df3 = pd.concat([df1, df2])\n",
        "print(\"The df3 is:\\n\", df3)\n"
      ],
      "metadata": {
        "colab": {
          "base_uri": "https://localhost:8080/"
        },
        "id": "hSNEHt1aGyIF",
        "outputId": "f5921066-b4dd-4136-be41-bbb9c9d35fbd"
      },
      "execution_count": 30,
      "outputs": [
        {
          "output_type": "stream",
          "name": "stdout",
          "text": [
            "The df1 is:\n",
            "    Id    Name\n",
            "0   1   Mohan\n",
            "1   2  Ritika\n",
            "\n",
            "\n",
            "The df2 is:\n",
            "    Id    Name\n",
            "0  13    Sara\n",
            "1   1   Sehek\n",
            "2  15  Zalema\n",
            "\n",
            "\n",
            "The df3 is:\n",
            "    Id    Name\n",
            "0   1   Mohan\n",
            "1   2  Ritika\n",
            "0  13    Sara\n",
            "1   1   Sehek\n",
            "2  15  Zalema\n"
          ]
        }
      ]
    }
  ]
}